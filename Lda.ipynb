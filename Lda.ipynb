{
 "cells": [
  {
   "cell_type": "markdown",
   "metadata": {},
   "source": [
    "# Import"
   ]
  },
  {
   "cell_type": "code",
   "execution_count": 62,
   "metadata": {},
   "outputs": [],
   "source": [
    "\n",
    "from nltk.stem.snowball import SnowballStemmer\n",
    "from nltk.tokenize import RegexpTokenizer \n",
    "from gensim import models, corpora\n",
    "from nltk.corpus import stopwords"
   ]
  },
  {
   "cell_type": "markdown",
   "metadata": {},
   "source": [
    "# Loading the input data"
   ]
  },
  {
   "cell_type": "code",
   "execution_count": 63,
   "metadata": {},
   "outputs": [],
   "source": [
    "\n",
    "def load_data(input_file):\n",
    "    data = []\n",
    "    with open(input_file, 'r') as f:\n",
    "        for line in f.readlines():\n",
    "            data.append(line[:-1])\n",
    "\n",
    "    return data"
   ]
  },
  {
   "cell_type": "markdown",
   "metadata": {},
   "source": [
    "# Function 'process' processess the input text"
   ]
  },
  {
   "cell_type": "code",
   "execution_count": 64,
   "metadata": {},
   "outputs": [],
   "source": [
    "\n",
    "def process(input_text):\n",
    "    # Regular expression tokenizer # Snowball stemmer # Getting the list of stop words \n",
    "    tokenizer = RegexpTokenizer(r'\\w+')\n",
    "    stemmer = SnowballStemmer('english')\n",
    "    stop_words = stopwords.words('english')\n",
    "    \n",
    "    # Tokenize the input string\n",
    "    tokens = tokenizer.tokenize(input_text.lower())\n",
    "\n",
    "    # Remove the stop words \n",
    "    tokens = [x for x in tokens if not x in stop_words]\n",
    "    \n",
    "    # Perform stemming on the tokenized words \n",
    "    tokens_stemmed = [stemmer.stem(x) for x in tokens]\n",
    "\n",
    "    return tokens_stemmed\n",
    "    "
   ]
  },
  {
   "cell_type": "markdown",
   "metadata": {},
   "source": [
    "# Main"
   ]
  },
  {
   "cell_type": "code",
   "execution_count": 66,
   "metadata": {},
   "outputs": [
    {
     "name": "stdout",
     "output_type": "stream",
     "text": [
      "\n",
      "Top 5 contributing words to each topic:\n",
      "\n",
      "Topic 0\n",
      "\"â\" ==> 2.7%\n",
      "\"nlp\" ==> 2.3%\n",
      "\"text\" ==> 1.4%\n",
      "\"word\" ==> 1.4%\n",
      "\"use\" ==> 1.4%\n",
      "\n",
      "Topic 1\n",
      "\"generat\" ==> 4.2%\n",
      "\"parser\" ==> 3.2%\n",
      "\"lexer\" ==> 3.2%\n",
      "\"token\" ==> 2.2%\n",
      "\"lex\" ==> 2.2%\n",
      "\n",
      "Topic 2\n",
      "\"languag\" ==> 2.5%\n",
      "\"lalr\" ==> 2.5%\n",
      "\"right\" ==> 1.8%\n",
      "\"bottom\" ==> 1.8%\n",
      "\"process\" ==> 1.8%\n",
      "\n",
      "Topic 3\n",
      "\"parser\" ==> 3.4%\n",
      "\"implement\" ==> 2.4%\n",
      "\"top\" ==> 2.4%\n",
      "\"origin\" ==> 1.3%\n",
      "\"grammar\" ==> 1.3%\n"
     ]
    }
   ],
   "source": [
    "if __name__=='__main__':\n",
    "    # Load input data\n",
    "    data = load_data('text.txt')\n",
    "    tokens = [process(x) for x in data]\n",
    "\n",
    "    # A dictionary based on the sentence tokens \n",
    "    dict_tokens = corpora.Dictionary(tokens)\n",
    "        \n",
    "    # document-term matrix\n",
    "    doc_term_mat = [dict_tokens.doc2bow(token) for token in tokens]\n",
    "\n",
    "    # Define the number of topics for the LDA model\n",
    "    num_topics = 4\n",
    "\n",
    "    # Generate the LDA model \n",
    "    ldamodel = models.ldamodel.LdaModel(doc_term_mat, \n",
    "            num_topics=num_topics, id2word=dict_tokens, passes=25)\n",
    "\n",
    "    num_words = 5\n",
    "    print('\\nTop ' + str(num_words) + ' contributing words to each topic:')\n",
    "    for item in ldamodel.print_topics(num_topics=num_topics, num_words=num_words):\n",
    "        print('\\nTopic', item[0])\n",
    "\n",
    "        # Print the contributing words along with their relative contributions \n",
    "        list_of_strings = item[1].split(' + ')\n",
    "        for text in list_of_strings:\n",
    "            weight = text.split('*')[0]\n",
    "            word = text.split('*')[1]\n",
    "            print(word, '==>', str(round(float(weight) * 100, 2)) + '%')\n",
    "\n"
   ]
  },
  {
   "cell_type": "code",
   "execution_count": null,
   "metadata": {},
   "outputs": [],
   "source": []
  }
 ],
 "metadata": {
  "kernelspec": {
   "display_name": "Python 3",
   "language": "python",
   "name": "python3"
  },
  "language_info": {
   "codemirror_mode": {
    "name": "ipython",
    "version": 3
   },
   "file_extension": ".py",
   "mimetype": "text/x-python",
   "name": "python",
   "nbconvert_exporter": "python",
   "pygments_lexer": "ipython3",
   "version": "3.7.6"
  }
 },
 "nbformat": 4,
 "nbformat_minor": 4
}
